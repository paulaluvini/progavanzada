{
 "cells": [
  {
   "cell_type": "code",
   "execution_count": 1,
   "metadata": {},
   "outputs": [],
   "source": [
    "data = [\n",
    "    ['woof', 1],\n",
    "    ['bark', 1],\n",
    "    ['ruff', 1],\n",
    "    ['bowwow', 1],\n",
    "    ['roar', 0],\n",
    "    ['bah', 0],\n",
    "    ['meow', 0],\n",
    "    ['ribbit', 0],\n",
    "    ['moo', 0],\n",
    "    ['yip', 0],\n",
    "    ['pika', 0]\n",
    "]"
   ]
  },
  {
   "cell_type": "code",
   "execution_count": 2,
   "metadata": {},
   "outputs": [],
   "source": [
    "X = []\n",
    "y = []\n",
    "for i in data:\n",
    "    X.append( i[0] )\n",
    "    y.append( i[1] )"
   ]
  },
  {
   "cell_type": "code",
   "execution_count": 3,
   "metadata": {},
   "outputs": [],
   "source": [
    "from sklearn.feature_extraction.text import CountVectorizer\n",
    "vectorizer = CountVectorizer()\n",
    "X_vectorized = vectorizer.fit_transform(X)"
   ]
  },
  {
   "cell_type": "code",
   "execution_count": 4,
   "metadata": {},
   "outputs": [
    {
     "data": {
      "text/plain": [
       "LinearRegression()"
      ]
     },
     "execution_count": 4,
     "metadata": {},
     "output_type": "execute_result"
    }
   ],
   "source": [
    "from sklearn.linear_model import LinearRegression\n",
    "import numpy as np\n",
    "regressor = LinearRegression()\n",
    "regressor.fit(X_vectorized, y)"
   ]
  },
  {
   "cell_type": "code",
   "execution_count": 5,
   "metadata": {},
   "outputs": [
    {
     "name": "stdout",
     "output_type": "stream",
     "text": [
      "[1.]\n",
      "[0.]\n",
      "[0.36363636]\n"
     ]
    }
   ],
   "source": [
    "test_feature = vectorizer.transform(['woof'])\n",
    "prediction = regressor.predict(test_feature)\n",
    "print(prediction)\n",
    "test_feature = vectorizer.transform(['ribbit'])\n",
    "prediction = regressor.predict(test_feature)\n",
    "print(prediction)\n",
    "test_feature = vectorizer.transform(['meoww'])\n",
    "prediction = regressor.predict(test_feature)\n",
    "print(prediction)"
   ]
  },
  {
   "cell_type": "code",
   "execution_count": 6,
   "metadata": {},
   "outputs": [],
   "source": [
    "import pickle\n",
    "pickl = {\n",
    "    'vectorizer': vectorizer,\n",
    "    'regressor': regressor\n",
    "}\n",
    "pickle.dump( pickl, open( 'models' + \".p\", \"wb\" ) )"
   ]
  }
 ],
 "metadata": {
  "kernelspec": {
   "display_name": "Python 3",
   "language": "python",
   "name": "python3"
  },
  "language_info": {
   "codemirror_mode": {
    "name": "ipython",
    "version": 3
   },
   "file_extension": ".py",
   "mimetype": "text/x-python",
   "name": "python",
   "nbconvert_exporter": "python",
   "pygments_lexer": "ipython3",
   "version": "3.8.5"
  }
 },
 "nbformat": 4,
 "nbformat_minor": 4
}
